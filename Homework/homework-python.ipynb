{
 "cells": [
  {
   "cell_type": "code",
   "execution_count": 20,
   "metadata": {},
   "outputs": [
    {
     "name": "stdout",
     "output_type": "stream",
     "text": [
      "數字是50，加10\n"
     ]
    }
   ],
   "source": [
    "numbers = [\"60\",\"50\",\"40\"]\n",
    "number = numbers[random.randint(0, 2)]\n",
    "if number < \"50\":\n",
    " print (\"數字是%s，開根號乘以10\" % number)\n",
    "elif number >=\"50\":\n",
    " print (\"數字是%s，加10\" % number)"
   ]
  },
  {
   "cell_type": "code",
   "execution_count": 27,
   "metadata": {},
   "outputs": [
    {
     "name": "stdout",
     "output_type": "stream",
     "text": [
      "成績是92，A\n",
      "成績是92，B\n",
      "成績是92，C\n",
      "成績是92，D\n"
     ]
    }
   ],
   "source": [
    "grades = [\"85\",\"92\",\"54\",\"61\"]\n",
    "grade = grades[random.randint(0, 3)]\n",
    "if grade >=\"90\":\n",
    " print (\"成績是%s，A\" % grade)\n",
    "if grade >=\"80\":\n",
    " print (\"成績是%s，B\" % grade)\n",
    "if grade >=\"70\":\n",
    " print (\"成績是%s，C\" % grade)\n",
    "if grade >=\"60\":\n",
    " print (\"成績是%s，D\" % grade)\n",
    "elif grade <\"60\":\n",
    " print (\"成績是%s，E\" % grade)"
   ]
  },
  {
   "cell_type": "code",
   "execution_count": 4,
   "metadata": {},
   "outputs": [
    {
     "name": "stdout",
     "output_type": "stream",
     "text": [
      "1 * 1 = 1\n",
      "1 * 2 = 2\n",
      "1 * 3 = 3\n",
      "1 * 4 = 4\n",
      "1 * 5 = 5\n",
      "1 * 6 = 6\n",
      "1 * 7 = 7\n",
      "1 * 8 = 8\n",
      "1 * 9 = 9\n",
      "\n",
      "\n",
      "2 * 1 = 2\n",
      "2 * 2 = 4\n",
      "2 * 3 = 6\n",
      "2 * 4 = 8\n",
      "2 * 5 = 10\n",
      "2 * 6 = 12\n",
      "2 * 7 = 14\n",
      "2 * 8 = 16\n",
      "2 * 9 = 18\n",
      "\n",
      "\n",
      "3 * 1 = 3\n",
      "3 * 2 = 6\n",
      "3 * 3 = 9\n",
      "3 * 4 = 12\n",
      "3 * 5 = 15\n",
      "3 * 6 = 18\n",
      "3 * 7 = 21\n",
      "3 * 8 = 24\n",
      "3 * 9 = 27\n",
      "\n",
      "\n",
      "4 * 1 = 4\n",
      "4 * 2 = 8\n",
      "4 * 3 = 12\n",
      "4 * 4 = 16\n",
      "4 * 5 = 20\n",
      "4 * 6 = 24\n",
      "4 * 7 = 28\n",
      "4 * 8 = 32\n",
      "4 * 9 = 36\n",
      "\n",
      "\n",
      "5 * 1 = 5\n",
      "5 * 2 = 10\n",
      "5 * 3 = 15\n",
      "5 * 4 = 20\n",
      "5 * 5 = 25\n",
      "5 * 6 = 30\n",
      "5 * 7 = 35\n",
      "5 * 8 = 40\n",
      "5 * 9 = 45\n",
      "\n",
      "\n",
      "6 * 1 = 6\n",
      "6 * 2 = 12\n",
      "6 * 3 = 18\n",
      "6 * 4 = 24\n",
      "6 * 5 = 30\n",
      "6 * 6 = 36\n",
      "6 * 7 = 42\n",
      "6 * 8 = 48\n",
      "6 * 9 = 54\n",
      "\n",
      "\n",
      "7 * 1 = 7\n",
      "7 * 2 = 14\n",
      "7 * 3 = 21\n",
      "7 * 4 = 28\n",
      "7 * 5 = 35\n",
      "7 * 6 = 42\n",
      "7 * 7 = 49\n",
      "7 * 8 = 56\n",
      "7 * 9 = 63\n",
      "\n",
      "\n",
      "8 * 1 = 8\n",
      "8 * 2 = 16\n",
      "8 * 3 = 24\n",
      "8 * 4 = 32\n",
      "8 * 5 = 40\n",
      "8 * 6 = 48\n",
      "8 * 7 = 56\n",
      "8 * 8 = 64\n",
      "8 * 9 = 72\n",
      "\n",
      "\n",
      "9 * 1 = 9\n",
      "9 * 2 = 18\n",
      "9 * 3 = 27\n",
      "9 * 4 = 36\n",
      "9 * 5 = 45\n",
      "9 * 6 = 54\n",
      "9 * 7 = 63\n",
      "9 * 8 = 72\n",
      "9 * 9 = 81\n",
      "\n",
      "\n"
     ]
    }
   ],
   "source": [
    "for i in range (1,10):\n",
    "    for j in range (1,10):\n",
    "        print(i,\"*\",j,\"=\",i*j)\n",
    "        if j==9:\n",
    "            print(\"\\n\")"
   ]
  },
  {
   "cell_type": "code",
   "execution_count": 5,
   "metadata": {},
   "outputs": [
    {
     "name": "stdout",
     "output_type": "stream",
     "text": [
      "使用者：1\n",
      "1\n",
      "金額：2\n",
      "年收益率：3\n",
      "月份：4\n",
      "金額：\n",
      "年收益率：\n",
      "月份：\n",
      "存款總額 512\n"
     ]
    }
   ],
   "source": [
    "def total(x,y,z):\n",
    "    return a*(1+b)**c\n",
    "message =\"使用者：\"\n",
    "name=input(message)\n",
    "print(name)\n",
    "money =\"金額：\"\n",
    "a =int(input(money))\n",
    "rate =\"年收益率：\"\n",
    "b =int(input(rate))\n",
    "month =\"月份：\"\n",
    "c =int(input(month))\n",
    "print(money)\n",
    "print(rate)\n",
    "print(month)\n",
    "ans = total(a,b,c)\n",
    "print(\"存款總額\", ans)"
   ]
  },
  {
   "cell_type": "code",
   "execution_count": null,
   "metadata": {},
   "outputs": [],
   "source": []
  }
 ],
 "metadata": {
  "kernelspec": {
   "display_name": "Python 3",
   "language": "python",
   "name": "python3"
  },
  "language_info": {
   "codemirror_mode": {
    "name": "ipython",
    "version": 3
   },
   "file_extension": ".py",
   "mimetype": "text/x-python",
   "name": "python",
   "nbconvert_exporter": "python",
   "pygments_lexer": "ipython3",
   "version": "3.7.0"
  }
 },
 "nbformat": 4,
 "nbformat_minor": 2
}
